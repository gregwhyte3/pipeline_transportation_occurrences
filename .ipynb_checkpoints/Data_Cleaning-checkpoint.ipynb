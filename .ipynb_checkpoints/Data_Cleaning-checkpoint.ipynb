{
 "cells": [
  {
   "cell_type": "code",
   "execution_count": 1,
   "metadata": {},
   "outputs": [],
   "source": [
    "# import libraries\n",
    "import pandas as pd\n",
    "from pandasgui import show # displays df as spreadsheet, makes viewing dfs easier"
   ]
  },
  {
   "cell_type": "code",
   "execution_count": 2,
   "metadata": {},
   "outputs": [],
   "source": [
    "# pandas viewing options config. Uncomment to display all rows\n",
    "# pd.set_option('display.max_rows', None)\n",
    "\n",
    "# read dataset, replace missing values with 'NA'\n",
    "df = pd.read_csv(\"pipeline-incidents-comprehensive-data.csv\", encoding=\"ISO-8859-1\", na_values=['']).fillna('NA')\n"
   ]
  },
  {
   "cell_type": "code",
   "execution_count": 6,
   "metadata": {},
   "outputs": [],
   "source": [
    "# Did not use becuase I changed null values to 'NA' in cell above\n",
    "\n",
    "# drop columns on NA values >40% basis\n",
    "# Create table for missing data analysis\n",
    "\n",
    "# def missing_data_table(df):\n",
    "#     total = df.isnull().sum().sort_values(ascending=False)\n",
    "#     percent = (df.isnull().sum()/df.isnull().count()).sort_values(ascending=False)\n",
    "#     missing_data = pd.concat([total, percent], axis=1, keys=['Total', 'Percent'])\n",
    "#     return missing_data\n",
    "\n",
    "# missing_data_table(df)"
   ]
  },
  {
   "cell_type": "code",
   "execution_count": 7,
   "metadata": {},
   "outputs": [],
   "source": [
    "# use for loop to drop unnecessary columns/columns with a lot of missing values (>40% NA values from function above)\n",
    "\n",
    "column_labels = []\n",
    "old_labels =[\"Number of fatalities\", \"Activity at time of fatality\", \"Conditions that resulted in adverse effects on the environment\", \"Workdays lost\", \"Designed depth of cover (m)\", \"Custom design wall thickness (mm)\", \"Restricted operating pressure (kPa)\", \"Source of Explosion\", \"Most recent cathodic protection reading at incident site (mV vs. Cu/CuSO4)\", \"Seam clock position\", \"Actual depth of cover (m)\", \"Seam joining method\", \"Year when the coating was applied\", \"Schedule\", \"Seam type\", \"Number of individuals injured\", \"Type of Injury\", \"Actual wall thickness (mm)\", \"Work restricted by injury\", \"Application method\", \"Year of manufacture\", \"Coating condition\", \"Coating location\", \"Coating type\", \"Design standard\", \"Actual operating pressure at time of failure (kPa)\", \"Facility Type\", \"Design wall thickness (mm)\", \"Material grade\", \"Year when put into service\", \"Most recent inspection date for the failed equipment or component\", \"Type of most recent inspection\", \"Year of installation\", \"Repair date\", \"Date of the most recent maintenance work for the failed equipment or component\", \"Facility longitude\", \"Facility latitude\", \"Material\", \"Repair type\", \"Most recent maintenance Type\", \"Licensed maximum operating pressure (kPa)\", \"Facility Name\", \"Nominal pipe size\", \"Related NEB event number\", \"Source of Fire\", \"Kilometre post\"]\n",
    "\n",
    "for i in df.columns:\n",
    "    if i not in column_labels:\n",
    "        column_labels.append(i)\n",
    "        \n",
    "df2 = df.drop(columns=old_labels, axis=1)\n"
   ]
  },
  {
   "cell_type": "code",
   "execution_count": 8,
   "metadata": {},
   "outputs": [],
   "source": [
    "# Drop some more columns \n",
    "\n",
    "df2 = df2.drop(['Pipeline outside diameter (NPS)', 'Country', 'Closed Date', 'Investigation Type', 'Was NEB Staff Deployed',\n",
    "               'Occurrence Date and Time', 'Weld type ', 'Off Company Property', 'Affects Pipeline right-of-way',\n",
    "               'Closed Date','Detailed what happened', 'What happened category', 'Detailed why it happened','Affects off Pipeline right-of-way','Affects Company Property'], axis=1)\n"
   ]
  },
  {
   "cell_type": "code",
   "execution_count": 9,
   "metadata": {},
   "outputs": [],
   "source": [
    "# Fix column names\n",
    "\n",
    "df2 = df2.rename(columns={'Incident Number':'IncidentNumber', 'Incident Types':'IncidentTypes', 'Reported Date':'ReportedDate',\n",
    "       'Nearest Populated Centre':'NearestPopulatedCentre', 'Province (E)':'Province', 'Approximate Volume Released (m³)':'ApproximateVolumeReleased(m³)',\n",
    "       'Substance (E)':'Substance', 'Release Type':'ReleaseType','Discovered Date and Time':'DiscoveredDateAndTime', 'Why it happened category':'WhyItHappened',\n",
    "       'Duration of interruption of pipeline operations':'DurationOfInterruptionOfPipelineOps',\n",
    "       'Pipeline or Facility Type':'Pipeline/FacilityType',\n",
    "       'Activity being performed at time of incident':'ActivityBeingPerformedAtTimeOfIncident',\n",
    "       'How the incident was discovered':'DiscoveryMethod',\n",
    "       'Pipeline or facility equipment involved':'Pipeline/FacilityEquipmentInvolved','Rupture (E)':'Rupture',\n",
    "       'Incident type':'IncidentType', 'Released substance type':'ReleasedSubstanceType', 'Released volume (m3)':'ReleasedVolume(m³)',\n",
    "       'Pipe body release':'PipeBodyRelease', 'Residual effects on the environment':'ResidualEffectsOnTheEnvironment',\n",
    "       'Conditions that resulted in the operation beyond  limits':'ConditionsThatResultedInTheOperationBeyondLimits',\n",
    "       'Number of people evacuated':'NumberOfPeopleEvacuated', 'Pipeline Name':'PipelineName',\n",
    "       'Pipeline length (km)':'PipelineLength(km)', 'Substance carried':'SubstanceCarried',\n",
    "       'Land Use':'LandUse', 'Population Density':'PopulationDensity',\n",
    "       'Emergency Level':'EmergencyLevel', 'Equipment or component involved':'Equipment/ComponentInvolved',\n",
    "       'Insulation installed':'InstallationInstalled',\n",
    "       'Equipment or component has never been inspected':'NoInspectionOnEquipment/Component',\n",
    "       'Most recent inspection part of the routine inspection program':'MostRecentInspectionPartOfTheRoutineInspectionProgram',\n",
    "       'No maintenance done on this equipment or component':'NoMaintenanceDoneOnEquipment/Component',\n",
    "       'Most recent maintenance work part of the routine maintenance program':'MostRecentMaintenanceWorkPartOfTheRoutineMaintenanceProgram'                   \n",
    "})"
   ]
  },
  {
   "cell_type": "code",
   "execution_count": 10,
   "metadata": {},
   "outputs": [
    {
     "data": {
      "text/plain": [
       "Index(['IncidentNumber', 'IncidentTypes', 'ReportedDate',\n",
       "       'NearestPopulatedCentre', 'Province', 'Company', 'Status', 'Latitude',\n",
       "       'Longitude', 'ApproximateVolumeReleased(m³)', 'Substance',\n",
       "       'ReleaseType', 'Significant', 'Year', 'DiscoveredDateAndTime',\n",
       "       'WhyItHappened', 'DurationOfInterruptionOfPipelineOps',\n",
       "       'Pipeline/FacilityType', 'ActivityBeingPerformedAtTimeOfIncident',\n",
       "       'DiscoveryMethod', 'Pipeline/FacilityEquipmentInvolved', 'Rupture',\n",
       "       'IncidentType', 'ReleasedSubstanceType', 'ReleasedVolume(m³)',\n",
       "       'PipeBodyRelease', 'ResidualEffectsOnTheEnvironment',\n",
       "       'ConditionsThatResultedInTheOperationBeyondLimits',\n",
       "       'NumberOfPeopleEvacuated', 'Regulation', 'PipelineName',\n",
       "       'PipelineLength(km)', 'SubstanceCarried', 'LandUse',\n",
       "       'PopulationDensity', 'EmergencyLevel', 'Equipment/ComponentInvolved',\n",
       "       'InstallationInstalled', 'NoInspectionOnEquipment/Component',\n",
       "       'MostRecentInspectionPartOfTheRoutineInspectionProgram',\n",
       "       'NoMaintenanceDoneOnEquipment/Component',\n",
       "       'MostRecentMaintenanceWorkPartOfTheRoutineMaintenanceProgram'],\n",
       "      dtype='object')"
      ]
     },
     "execution_count": 10,
     "metadata": {},
     "output_type": "execute_result"
    }
   ],
   "source": [
    "# view columns\n",
    "df2.columns"
   ]
  },
  {
   "cell_type": "code",
   "execution_count": 11,
   "metadata": {},
   "outputs": [],
   "source": [
    "# export df to new csv file\n",
    "df2.to_csv('cleaned.csv', index=False)"
   ]
  },
  {
   "cell_type": "code",
   "execution_count": null,
   "metadata": {},
   "outputs": [],
   "source": []
  }
 ],
 "metadata": {
  "kernelspec": {
   "display_name": "Python 3",
   "language": "python",
   "name": "python3"
  },
  "language_info": {
   "codemirror_mode": {
    "name": "ipython",
    "version": 3
   },
   "file_extension": ".py",
   "mimetype": "text/x-python",
   "name": "python",
   "nbconvert_exporter": "python",
   "pygments_lexer": "ipython3",
   "version": "3.8.5"
  }
 },
 "nbformat": 4,
 "nbformat_minor": 4
}
