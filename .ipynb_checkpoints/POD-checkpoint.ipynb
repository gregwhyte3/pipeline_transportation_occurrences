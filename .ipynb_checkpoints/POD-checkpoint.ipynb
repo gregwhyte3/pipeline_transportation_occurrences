{
 "cells": [
  {
   "cell_type": "code",
   "execution_count": 1,
   "metadata": {},
   "outputs": [],
   "source": [
    "# import libraries/tools\n",
    "\n",
    "import pandas as pd\n",
    "import seaborn as sns\n"
   ]
  },
  {
   "cell_type": "code",
   "execution_count": 19,
   "metadata": {},
   "outputs": [
    {
     "data": {
      "text/plain": [
       "OccNo                    object\n",
       "OccID                     int64\n",
       "OccClassID                int64\n",
       "OccClassID_DisplayEng    object\n",
       "OccClassID_DisplayFre    object\n",
       "                          ...  \n",
       "DateOfCall               object\n",
       "TimeOfCall               object\n",
       "TotalSeriousInjuries      int64\n",
       "TotalFatalInjuries        int64\n",
       "DailyReleasedDate        object\n",
       "Length: 117, dtype: object"
      ]
     },
     "execution_count": 19,
     "metadata": {},
     "output_type": "execute_result"
    }
   ],
   "source": [
    "# Read data\n",
    "# string values are being displayed as NaN! Why?\n",
    "\n",
    "df = pd.read_csv('pod.csv')\n",
    "df.dtypes"
   ]
  },
  {
   "cell_type": "code",
   "execution_count": null,
   "metadata": {},
   "outputs": [],
   "source": []
  },
  {
   "cell_type": "code",
   "execution_count": null,
   "metadata": {},
   "outputs": [],
   "source": []
  }
 ],
 "metadata": {
  "kernelspec": {
   "display_name": "Python 3",
   "language": "python",
   "name": "python3"
  },
  "language_info": {
   "codemirror_mode": {
    "name": "ipython",
    "version": 3
   },
   "file_extension": ".py",
   "mimetype": "text/x-python",
   "name": "python",
   "nbconvert_exporter": "python",
   "pygments_lexer": "ipython3",
   "version": "3.8.5"
  }
 },
 "nbformat": 4,
 "nbformat_minor": 4
}
