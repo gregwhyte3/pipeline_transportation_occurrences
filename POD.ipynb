{
 "cells": [
  {
   "cell_type": "code",
   "execution_count": 3,
   "metadata": {},
   "outputs": [],
   "source": [
    "# import libraries/tools\n",
    "\n",
    "import pandas as pd\n",
    "import seaborn as sns\n",
    "from pandasgui import show  \n"
   ]
  },
  {
   "cell_type": "code",
   "execution_count": 18,
   "metadata": {},
   "outputs": [],
   "source": [
    "# Read data\n",
    "\n",
    "df = pd.read_csv('pod.csv')\n",
    "# show(df) # displays df in a separate window"
   ]
  },
  {
   "cell_type": "code",
   "execution_count": 15,
   "metadata": {},
   "outputs": [],
   "source": [
    "# drop columns \n",
    "# use for loop to drop unnecessary columns\n",
    "\n",
    "column_labels = ['OccNo', 'OccID', 'OccClassID_DisplayEng', 'OccTypeID_DisplayEng', 'OccDate', 'OccTime', 'TimeZoneID_DisplayEng', 'ProvinceID_DisplayEng', 'LocationID_DisplayEng', 'NearestLocationLongitude', 'NearestLocationLatitude', 'RegionOccID_DisplayEng', 'RegionRespID_DisplayEng', 'PipelineOperatorID_DisplayEng', 'FacilityNameID_DisplayEng', 'FacilityTypeID_DisplayEng', 'PipelineNameID_DisplayEng', 'PipelineTypeID_DisplayEng', 'ComponentID_DisplayEng', 'ProductCarriedID_DisplayEng', 'TypeOfProductID_DisplayEng', 'DetectionMethodID_DisplayEng', 'LandUseTypeID_DisplayEng', 'EntityInvolvedID_DisplayEng', 'HazardTypeId_DisplayEng', 'ThreatToPipelineID_DisplayEng', 'QuantityLost', 'QuantityRecovered', 'OccSummary', 'PipelineDiameter', 'FireInd', 'ExplosionInd', 'ProductReleasedInd', 'ProductReleasedDisplayEng', 'InterruptionOfPipelineOpsInd', 'ProductLeftCoPropertyRowInd', 'TerrainEnvironmentalHazardInd', 'DeployedInd', 'SignificantEnvironmentalImpactInd', 'ReportedDate', 'ReportedTime', 'TotalSeriousInjuries', 'TotalFatalInjuries', 'InjuryCategoryID_DisplayEng', 'Fatal', 'Serious']\n",
    "old_labels =[]\n",
    "\n",
    "for i in df.columns:\n",
    "    if i not in column_labels:\n",
    "        old_labels.append(i)\n",
    "        \n",
    "pod = df.drop(columns=old_labels, axis=1)\n",
    "pod.columns"
   ]
  },
  {
   "cell_type": "code",
   "execution_count": 19,
   "metadata": {},
   "outputs": [
    {
     "data": {
      "text/plain": [
       "<pandasgui.gui.PandasGui at 0x2d61997b790>"
      ]
     },
     "execution_count": 19,
     "metadata": {},
     "output_type": "execute_result"
    }
   ],
   "source": [
    "# string values are being displayed as NaN! Why?\n",
    "\n",
    "\n",
    "show(pod);"
   ]
  },
  {
   "cell_type": "code",
   "execution_count": null,
   "metadata": {},
   "outputs": [],
   "source": []
  },
  {
   "cell_type": "code",
   "execution_count": null,
   "metadata": {},
   "outputs": [],
   "source": []
  }
 ],
 "metadata": {
  "kernelspec": {
   "display_name": "Python 3",
   "language": "python",
   "name": "python3"
  },
  "language_info": {
   "codemirror_mode": {
    "name": "ipython",
    "version": 3
   },
   "file_extension": ".py",
   "mimetype": "text/x-python",
   "name": "python",
   "nbconvert_exporter": "python",
   "pygments_lexer": "ipython3",
   "version": "3.8.5"
  }
 },
 "nbformat": 4,
 "nbformat_minor": 4
}
