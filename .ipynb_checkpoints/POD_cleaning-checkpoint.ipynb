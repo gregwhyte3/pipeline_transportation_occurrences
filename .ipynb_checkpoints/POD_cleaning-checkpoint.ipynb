{
 "cells": [
  {
   "cell_type": "code",
   "execution_count": 238,
   "metadata": {},
   "outputs": [],
   "source": [
    "# import libraries/tools\n",
    "\n",
    "import pandas as pd\n",
    "import seaborn as sns\n",
    "from pandasgui import show  \n"
   ]
  },
  {
   "cell_type": "code",
   "execution_count": 239,
   "metadata": {},
   "outputs": [],
   "source": [
    "# Read data\n",
    "\n",
    "df = pd.read_csv('pod.csv',index_col=0, na_values=['']).fillna(0) \n"
   ]
  },
  {
   "cell_type": "code",
   "execution_count": 240,
   "metadata": {},
   "outputs": [],
   "source": [
    "# drop columns \n",
    "# use for loop to drop unnecessary columns\n",
    "\n",
    "column_labels = ['OccNo', 'OccClassID_DisplayEng', 'OccTypeID_DisplayEng', 'OccDate', 'OccTime', 'ProvinceID_DisplayEng', 'LocationID_DisplayEng', 'NearestLocationLongitude', 'NearestLocationLatitude', 'RegionOccID_DisplayEng', 'RegionRespID_DisplayEng', 'PipelineOperatorID_DisplayEng', 'FacilityNameID_DisplayEng', 'FacilityTypeID_DisplayEng', 'PipelineNameID_DisplayEng', 'PipelineTypeID_DisplayEng', 'ComponentID_DisplayEng', 'ProductCarriedID_DisplayEng', 'TypeOfProductID_DisplayEng', 'DetectionMethodID_DisplayEng', 'LandUseTypeID_DisplayEng', 'EntityInvolvedID_DisplayEng', 'HazardTypeId_DisplayEng', 'ThreatToPipelineID_DisplayEng', 'QuantityLost', 'QuantityRecovered', 'OccSummary', 'FireInd', 'ExplosionInd', 'ProductReleasedInd', 'ProductReleasedDisplayEng', 'InterruptionOfPipelineOpsInd', 'ProductLeftCoPropertyRowInd', 'TerrainEnvironmentalHazardInd', 'DeployedInd', 'SignificantEnvironmentalImpactInd', 'ReportedDate', 'ReportedTime', 'TotalSeriousInjuries', 'TotalFatalInjuries', 'InjuryCategoryID_DisplayEng', 'Fatal', 'Serious', 'RuptureInd', 'OperationBeyondLimitsInd']\n",
    "old_labels =[]\n",
    "\n",
    "for i in df.columns:\n",
    "    if i not in column_labels:\n",
    "        old_labels.append(i)\n",
    "        \n",
    "pod = df.drop(columns=old_labels, axis=1)\n",
    "# pod.columns\n",
    "\n"
   ]
  },
  {
   "cell_type": "code",
   "execution_count": 241,
   "metadata": {},
   "outputs": [],
   "source": [
    "# Change column names\n",
    "\n",
    "df2 = pod.rename({\n",
    "       'OccClassID_DisplayEng':'OccClass', 'OccTypeID_DisplayEng':'OccType',\n",
    "       'ProvinceID_DisplayEng':'Province', 'LocationID_DisplayEng':'Location',\n",
    "       'RegionOccID_DisplayEng':'RegionOcc', 'RegionRespID_DisplayEng':'RegionResponsible',\n",
    "       'PipelineOperatorID_DisplayEng':'PipelineOperator', 'FacilityNameID_DisplayEng':'FacilityName',\n",
    "       'FacilityTypeID_DisplayEng':'FacilityType', 'PipelineNameID_DisplayEng':'PipelineName',\n",
    "       'PipelineTypeID_DisplayEng':'PipelineType', 'ComponentID_DisplayEng':'ComponentAffected',\n",
    "       'ProductCarriedID_DisplayEng':'ProductCarried', 'TypeOfProductID_DisplayEng':'TypeOfProduct',\n",
    "       'DetectionMethodID_DisplayEng':'DetectionMethod', 'LandUseTypeID_DisplayEng':'LandUseType',\n",
    "       'EntityInvolvedID_DisplayEng':'EntityInvolved', 'HazardTypeId_DisplayEng':'HazardType',\n",
    "       'ThreatToPipelineID_DisplayEng':'ThreatToPipeline',\n",
    "       'FireInd':'Fire', 'ExplosionInd':'Explosion', 'ProductReleasedInd':'ProductReleasedIndicator',\n",
    "       'ProductReleasedDisplayEng':'ProductReleased', 'InterruptionOfPipelineOpsInd':'InterruptionOfPipelineOperations',\n",
    "       'RuptureInd':'Rupture', 'OperationBeyondLimitsInd':'OperatedBeyondLimits', 'ProductLeftCoPropertyRowInd':'ProductLeftCoPropertyROW',\n",
    "       'TerrainEnvironmentalHazardInd':'TerrainEnvironmentalHazard', 'DeployedInd':'TSBDeployed',\n",
    "       'SignificantEnvironmentalImpactInd':'SignificantEnvironmentalImpact'},axis=1)"
   ]
  },
  {
   "cell_type": "code",
   "execution_count": null,
   "metadata": {},
   "outputs": [],
   "source": []
  },
  {
   "cell_type": "code",
   "execution_count": null,
   "metadata": {},
   "outputs": [],
   "source": []
  },
  {
   "cell_type": "code",
   "execution_count": 248,
   "metadata": {},
   "outputs": [],
   "source": [
    "# Fix inconsistencies\n",
    "\n",
    "# Convert string values for columns to sentence case. For loop used on multiple columns\n",
    "cols = list(df2[['OccType','Province','Location','RegionOcc',\n",
    "   'PipelineOperator','FacilityName','PipelineName','LandUseType']])\n",
    "\n",
    "for i in cols:\n",
    "    df2[i] = df2[i].str.title()\n",
    "    \n",
    "# remove time in 'OccDate' column\n",
    "df2['OccDate'] = df2['OccDate'].apply(lambda x: x.split(' ')[0])\n",
    "\n",
    "# replace empty rows with 0; for loop makes process easier!\n",
    "cols2 = list(df2[['Province','Location','FacilityName',\n",
    "           'FacilityType','PipelineName']])\n",
    "for i in cols2:\n",
    "    df2[i] = df2[i].apply(lambda x: x if x == x else 0)"
   ]
  },
  {
   "cell_type": "code",
   "execution_count": null,
   "metadata": {},
   "outputs": [],
   "source": []
  }
 ],
 "metadata": {
  "kernelspec": {
   "display_name": "Python 3",
   "language": "python",
   "name": "python3"
  },
  "language_info": {
   "codemirror_mode": {
    "name": "ipython",
    "version": 3
   },
   "file_extension": ".py",
   "mimetype": "text/x-python",
   "name": "python",
   "nbconvert_exporter": "python",
   "pygments_lexer": "ipython3",
   "version": "3.8.5"
  }
 },
 "nbformat": 4,
 "nbformat_minor": 4
}
