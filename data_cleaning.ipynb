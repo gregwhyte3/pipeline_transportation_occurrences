{
 "cells": [
  {
   "cell_type": "code",
   "execution_count": 1,
   "metadata": {},
   "outputs": [],
   "source": [
    "import pandas as pd\n",
    "from pandasgui import show # displays df in spreadsheet view"
   ]
  },
  {
   "cell_type": "code",
   "execution_count": 2,
   "metadata": {},
   "outputs": [],
   "source": [
    "# pandas viewing options config. Uncomment to display all rows\n",
    "# pd.set_option('display.max_rows', None)\n",
    "\n",
    "# read dataset\n",
    "\n",
    "df = pd.read_csv(\"pipeline-incidents-comprehensive-data.csv\", encoding=\"ISO-8859-1\")"
   ]
  },
  {
   "cell_type": "code",
   "execution_count": 3,
   "metadata": {},
   "outputs": [
    {
     "data": {
      "text/html": [
       "<div>\n",
       "<style scoped>\n",
       "    .dataframe tbody tr th:only-of-type {\n",
       "        vertical-align: middle;\n",
       "    }\n",
       "\n",
       "    .dataframe tbody tr th {\n",
       "        vertical-align: top;\n",
       "    }\n",
       "\n",
       "    .dataframe thead th {\n",
       "        text-align: right;\n",
       "    }\n",
       "</style>\n",
       "<table border=\"1\" class=\"dataframe\">\n",
       "  <thead>\n",
       "    <tr style=\"text-align: right;\">\n",
       "      <th></th>\n",
       "      <th>Total</th>\n",
       "      <th>Percent</th>\n",
       "    </tr>\n",
       "  </thead>\n",
       "  <tbody>\n",
       "    <tr>\n",
       "      <th>Number of fatalities</th>\n",
       "      <td>1392</td>\n",
       "      <td>0.996421</td>\n",
       "    </tr>\n",
       "    <tr>\n",
       "      <th>Activity at time of fatality</th>\n",
       "      <td>1391</td>\n",
       "      <td>0.995705</td>\n",
       "    </tr>\n",
       "    <tr>\n",
       "      <th>Conditions that resulted in adverse effects on the environment</th>\n",
       "      <td>1382</td>\n",
       "      <td>0.989263</td>\n",
       "    </tr>\n",
       "    <tr>\n",
       "      <th>Workdays lost</th>\n",
       "      <td>1381</td>\n",
       "      <td>0.988547</td>\n",
       "    </tr>\n",
       "    <tr>\n",
       "      <th>Designed depth of cover (m)</th>\n",
       "      <td>1377</td>\n",
       "      <td>0.985684</td>\n",
       "    </tr>\n",
       "    <tr>\n",
       "      <th>...</th>\n",
       "      <td>...</td>\n",
       "      <td>...</td>\n",
       "    </tr>\n",
       "    <tr>\n",
       "      <th>Number of people evacuated</th>\n",
       "      <td>0</td>\n",
       "      <td>0.000000</td>\n",
       "    </tr>\n",
       "    <tr>\n",
       "      <th>Residual effects on the environment</th>\n",
       "      <td>0</td>\n",
       "      <td>0.000000</td>\n",
       "    </tr>\n",
       "    <tr>\n",
       "      <th>Incident type</th>\n",
       "      <td>0</td>\n",
       "      <td>0.000000</td>\n",
       "    </tr>\n",
       "    <tr>\n",
       "      <th>Rupture (E)</th>\n",
       "      <td>0</td>\n",
       "      <td>0.000000</td>\n",
       "    </tr>\n",
       "    <tr>\n",
       "      <th>Incident Number</th>\n",
       "      <td>0</td>\n",
       "      <td>0.000000</td>\n",
       "    </tr>\n",
       "  </tbody>\n",
       "</table>\n",
       "<p>102 rows × 2 columns</p>\n",
       "</div>"
      ],
      "text/plain": [
       "                                                    Total   Percent\n",
       "Number of fatalities                                 1392  0.996421\n",
       "Activity at time of fatality                         1391  0.995705\n",
       "Conditions that resulted in adverse effects on ...   1382  0.989263\n",
       "Workdays lost                                        1381  0.988547\n",
       "Designed depth of cover (m)                          1377  0.985684\n",
       "...                                                   ...       ...\n",
       "Number of people evacuated                              0  0.000000\n",
       "Residual effects on the environment                     0  0.000000\n",
       "Incident type                                           0  0.000000\n",
       "Rupture (E)                                             0  0.000000\n",
       "Incident Number                                         0  0.000000\n",
       "\n",
       "[102 rows x 2 columns]"
      ]
     },
     "execution_count": 3,
     "metadata": {},
     "output_type": "execute_result"
    }
   ],
   "source": [
    "# drop columns on NaN values >25% basis\n",
    "# Create table for missing data analysis\n",
    "\n",
    "def missing_data_table(df):\n",
    "    total = df.isnull().sum().sort_values(ascending=False)\n",
    "    percent = (df.isnull().sum()/df.isnull().count()).sort_values(ascending=False)\n",
    "    missing_data = pd.concat([total, percent], axis=1, keys=['Total', 'Percent'])\n",
    "    return missing_data\n",
    "\n",
    "missing_data_table(df)"
   ]
  },
  {
   "cell_type": "code",
   "execution_count": null,
   "metadata": {},
   "outputs": [],
   "source": []
  },
  {
   "cell_type": "code",
   "execution_count": 4,
   "metadata": {},
   "outputs": [],
   "source": [
    "# use for loop to drop unnecessary columns/columns with a lot of missing values (>25% Null vaues from function above)\n",
    "\n",
    "column_labels = []\n",
    "old_labels =[\"Number of fatalities\", \"Activity at time of fatality\", \"Conditions that resulted in adverse effects on the environment\", \"Workdays lost\", \"Designed depth of cover (m)\", \"Custom design wall thickness (mm)\", \"Restricted operating pressure (kPa)\", \"Source of Explosion\", \"Most recent cathodic protection reading at incident site (mV vs. Cu/CuSO4)\", \"Seam clock position\", \"Actual depth of cover (m)\", \"Seam joining method\", \"Year when the coating was applied\", \"Schedule\", \"Seam type\", \"Number of individuals injured\", \"Type of Injury\", \"Actual wall thickness (mm)\", \"Work restricted by injury\", \"Application method\", \"Year of manufacture\", \"Coating condition\", \"Coating location\", \"Coating type\", \"Design standard\", \"Actual operating pressure at time of failure (kPa)\", \"Facility Type\", \"Design wall thickness (mm)\", \"Material grade\", \"Year when put into service\", \"Most recent inspection date for the failed equipment or component\", \"Type of most recent inspection\", \"Year of installation\", \"Repair date\", \"Date of the most recent maintenance work for the failed equipment or component\", \"Facility longitude\", \"Facility latitude\", \"Material\", \"Repair type\", \"Most recent maintenance Type\", \"Licensed maximum operating pressure (kPa)\", \"Facility Name\", \"Nominal pipe size\", \"Related NEB event number\", \"Source of Fire\", \"Kilometre post\"]\n",
    "\n",
    "for i in df.columns:\n",
    "    if i not in column_labels:\n",
    "        column_labels.append(i)\n",
    "        \n",
    "df2 = df.drop(columns=old_labels, axis=1)\n"
   ]
  },
  {
   "cell_type": "code",
   "execution_count": 6,
   "metadata": {},
   "outputs": [],
   "source": [
    "# Drop some more columns \n",
    "\n",
    "df2 = df2.drop(['Pipeline outside diameter (NPS)', 'Country', 'Closed Date', 'Investigation Type', 'Was NEB Staff Deployed',\n",
    "               'Occurrence Date and Time', 'Weld type ', 'Off Company Property', 'Affects Pipeline right-of-way',\n",
    "               'Closed Date','Detailed what happened', 'What happened category', 'Detailed why it happened'], axis=1)"
   ]
  },
  {
   "cell_type": "code",
   "execution_count": 8,
   "metadata": {},
   "outputs": [],
   "source": [
    " # export df to new csv file\n",
    "df2.to_csv('cleaned.csv', index=False)"
   ]
  }
 ],
 "metadata": {
  "kernelspec": {
   "display_name": "Python 3",
   "language": "python",
   "name": "python3"
  },
  "language_info": {
   "codemirror_mode": {
    "name": "ipython",
    "version": 3
   },
   "file_extension": ".py",
   "mimetype": "text/x-python",
   "name": "python",
   "nbconvert_exporter": "python",
   "pygments_lexer": "ipython3",
   "version": "3.8.5"
  }
 },
 "nbformat": 4,
 "nbformat_minor": 4
}
